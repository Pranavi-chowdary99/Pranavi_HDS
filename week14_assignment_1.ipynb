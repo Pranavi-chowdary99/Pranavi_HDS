{
  "cells": [
    {
      "cell_type": "markdown",
      "metadata": {
        "id": "view-in-github",
        "colab_type": "text"
      },
      "source": [
        "<a href=\"https://colab.research.google.com/github/Pranavi-chowdary99/Pranavi_HDS/blob/main/week14_assignment_1.ipynb\" target=\"_parent\"><img src=\"https://colab.research.google.com/assets/colab-badge.svg\" alt=\"Open In Colab\"/></a>"
      ]
    },
    {
      "cell_type": "markdown",
      "metadata": {
        "nbgrader": {
          "grade": false,
          "grade_id": "cell-fc1c39d0d6f8b82a",
          "locked": true,
          "schema_version": 1,
          "solution": false
        },
        "id": "fdb8Rw_3ca7b"
      },
      "source": [
        "# Week 14 Review Assignmnet\n",
        "\n",
        "For the questions below, we're going to refer exclusively to an HHCAPS survey data set that is available in `/data/hhcaps.csv`.  Use whatever commands you want to calculate the information required to get to the answer.  Then, enter your answer in the answers cell as usual.\n",
        "\n",
        "**NOTE: Enter your answers as string values (inside quotation marks \"\") even if the answer is actually numeric.**\n",
        "\n",
        "---\n",
        "---\n"
      ]
    },
    {
      "cell_type": "code",
      "execution_count": null,
      "metadata": {
        "nbgrader": {
          "grade": false,
          "grade_id": "intro",
          "locked": true,
          "schema_version": 1,
          "solution": false
        },
        "id": "l1ncUJeGca7c"
      },
      "outputs": [],
      "source": [
        "%matplotlib inline\n",
        "import pandas as pd\n",
        "\n",
        "hhcaps = pd.read_csv('https://hds5210-data.s3.amazonaws.com/hhcaps.csv')"
      ]
    },
    {
      "cell_type": "markdown",
      "metadata": {
        "nbgrader": {
          "grade": false,
          "grade_id": "q01-intro",
          "locked": true,
          "schema_version": 1,
          "solution": false
        },
        "id": "QYR5RdVpca7d"
      },
      "source": [
        "## #01 -\n",
        "\n",
        "How many columns does this file contain?"
      ]
    },
    {
      "cell_type": "code",
      "execution_count": null,
      "metadata": {
        "colab": {
          "base_uri": "https://localhost:8080/"
        },
        "id": "jm1IpCUQca7d",
        "outputId": "aa132387-a60e-45fe-81e2-02b41a3c2114"
      },
      "outputs": [
        {
          "output_type": "stream",
          "name": "stdout",
          "text": [
            "      State  CMS Certification Number (CCN)*  \\\n",
            "0        AL                            17000   \n",
            "1        AL                            17008   \n",
            "2        AL                            17009   \n",
            "3        AL                            17013   \n",
            "4        AL                            17014   \n",
            "...     ...                              ...   \n",
            "11995    TX                           747978   \n",
            "11996    TX                           747979   \n",
            "11997    TX                           747980   \n",
            "11998    TX                           747981   \n",
            "11999    TX                           747982   \n",
            "\n",
            "                                           Provider Name  \\\n",
            "0      BUREAU OF HOME & COMMUNITY SERVICES           ...   \n",
            "1      JEFFERSON COUNTY HOME CARE                    ...   \n",
            "2      ALACARE HOME HEALTH & HOSPICE                 ...   \n",
            "3      GENTIVA HEALTH SERVICES                       ...   \n",
            "4      AMEDISYS HOME HEALTH                          ...   \n",
            "...                                                  ...   \n",
            "11995  EXECUTIVE HOME HEALTH LLC                     ...   \n",
            "11996  A1 ULTRA HOMECARE                             ...   \n",
            "11997  SUNSHINE THERAPY & NURSING SERVICES           ...   \n",
            "11998  CMB HEALTHCARE, INCORPORATED                  ...   \n",
            "11999  LILY HOME HEALTH INC                          ...   \n",
            "\n",
            "                                                 Address  \\\n",
            "0      201 MONROE STREET, THE RSA TOWER,  SUITE 1200 ...   \n",
            "1      2201 ARLINGTON AVENUE                         ...   \n",
            "2      2970 LORNA ROAD                               ...   \n",
            "3      1239 RUCKER BLVD                              ...   \n",
            "4      68278 MAIN STREET                             ...   \n",
            "...                                                  ...   \n",
            "11995  860 WEST PRICE RD SUITE B                     ...   \n",
            "11996  20031 PARK RANCH                              ...   \n",
            "11997  4609 SAN DARIO AVENUE SUITE 9                 ...   \n",
            "11998  1400 8TH STREET SUITE 6B                      ...   \n",
            "11999  234 MEYER STREET SUITE P                      ...   \n",
            "\n",
            "                       City    Zip       Phone       Type of Ownership  \\\n",
            "0      MONTGOMERY            36104  3342065341  Official Health Agency   \n",
            "1      BESSEMER              35020  2059169500  Official Health Agency   \n",
            "2      BIRMINGHAM            35216  2058242680                   Local   \n",
            "3      ENTERPRISE            36330  3343470234  Official Health Agency   \n",
            "4      BLOUNTSVILLE          35031  2054294919                   Local   \n",
            "...                     ...    ...         ...                     ...   \n",
            "11995  BROWNSVILLE           78520  9564650557                   Local   \n",
            "11996  SAN ANTONIO           78259  2107452250                   Local   \n",
            "11997  LAREDO                78041  9567236600                   Local   \n",
            "11998  BAY CITY              77414  8323875358                   Local   \n",
            "11999  SEALY                 77474  9792534938                   Local   \n",
            "\n",
            "       Offers Nursing Care Services  Offers Physical Therapy Services  ...  \\\n",
            "0                              True                              True  ...   \n",
            "1                              True                              True  ...   \n",
            "2                              True                              True  ...   \n",
            "3                              True                              True  ...   \n",
            "4                              True                              True  ...   \n",
            "...                             ...                               ...  ...   \n",
            "11995                          True                              True  ...   \n",
            "11996                          True                              True  ...   \n",
            "11997                          True                              True  ...   \n",
            "11998                          True                              True  ...   \n",
            "11999                          True                              True  ...   \n",
            "\n",
            "       Star Rating for how patients rated overall care from agency  \\\n",
            "0                                                    NaN             \n",
            "1                                                    4.0             \n",
            "2                                                    4.0             \n",
            "3                                                    4.0             \n",
            "4                                                    4.0             \n",
            "...                                                  ...             \n",
            "11995                                                NaN             \n",
            "11996                                                NaN             \n",
            "11997                                                NaN             \n",
            "11998                                                NaN             \n",
            "11999                                                NaN             \n",
            "\n",
            "       Footnote for Star Rating for overall care from agency  \\\n",
            "0       No survey results are available for this period.       \n",
            "1      Fewer than 100 patients completed the survey. ...       \n",
            "2                                                    NaN       \n",
            "3                                                    NaN       \n",
            "4                                                    NaN       \n",
            "...                                                  ...       \n",
            "11995   No survey results are available for this period.       \n",
            "11996   No survey results are available for this period.       \n",
            "11997   No survey results are available for this period.       \n",
            "11998   No survey results are available for this period.       \n",
            "11999   No survey results are available for this period.       \n",
            "\n",
            "       Percent of patients who gave their home health agency a rating of 9 or 10 on a scale from 0 (lowest) to 10 (highest)  \\\n",
            "0                                          Not Available                                                                      \n",
            "1                                                     91                                                                      \n",
            "2                                                     88                                                                      \n",
            "3                                                     91                                                                      \n",
            "4                                                     88                                                                      \n",
            "...                                                  ...                                                                      \n",
            "11995                                      Not Available                                                                      \n",
            "11996                                      Not Available                                                                      \n",
            "11997                                      Not Available                                                                      \n",
            "11998                                      Not Available                                                                      \n",
            "11999                                      Not Available                                                                      \n",
            "\n",
            "       Footnote for percent of patients who gave their home health agency a rating of 9 or 10 on a scale from 0 (lowest) to 10 (highest)  \\\n",
            "0       No survey results are available for this period.                                                                                   \n",
            "1      Fewer than 100 patients completed the survey. ...                                                                                   \n",
            "2                                                    NaN                                                                                   \n",
            "3                                                    NaN                                                                                   \n",
            "4                                                    NaN                                                                                   \n",
            "...                                                  ...                                                                                   \n",
            "11995   No survey results are available for this period.                                                                                   \n",
            "11996   No survey results are available for this period.                                                                                   \n",
            "11997   No survey results are available for this period.                                                                                   \n",
            "11998   No survey results are available for this period.                                                                                   \n",
            "11999   No survey results are available for this period.                                                                                   \n",
            "\n",
            "      Percent of patients who reported YES, they would definitely recommend the home health agency to friends and family  \\\n",
            "0                                          Not Available                                                                   \n",
            "1                                                     77                                                                   \n",
            "2                                                     81                                                                   \n",
            "3                                                     91                                                                   \n",
            "4                                                     79                                                                   \n",
            "...                                                  ...                                                                   \n",
            "11995                                      Not Available                                                                   \n",
            "11996                                      Not Available                                                                   \n",
            "11997                                      Not Available                                                                   \n",
            "11998                                      Not Available                                                                   \n",
            "11999                                      Not Available                                                                   \n",
            "\n",
            "       Footnote for percent of patients who reported YES, they would definitely recommend the home health agency to friends and family  \\\n",
            "0       No survey results are available for this period.                                                                                 \n",
            "1      Fewer than 100 patients completed the survey. ...                                                                                 \n",
            "2                                                    NaN                                                                                 \n",
            "3                                                    NaN                                                                                 \n",
            "4                                                    NaN                                                                                 \n",
            "...                                                  ...                                                                                 \n",
            "11995   No survey results are available for this period.                                                                                 \n",
            "11996   No survey results are available for this period.                                                                                 \n",
            "11997   No survey results are available for this period.                                                                                 \n",
            "11998   No survey results are available for this period.                                                                                 \n",
            "11999   No survey results are available for this period.                                                                                 \n",
            "\n",
            "      Number of completed Surveys  \\\n",
            "0                   Not Available   \n",
            "1                              55   \n",
            "2                             327   \n",
            "3                             252   \n",
            "4                             205   \n",
            "...                           ...   \n",
            "11995               Not Available   \n",
            "11996               Not Available   \n",
            "11997               Not Available   \n",
            "11998               Not Available   \n",
            "11999               Not Available   \n",
            "\n",
            "                Footnote for number of completed surveys  Response rate  \\\n",
            "0       No survey results are available for this period.  Not Available   \n",
            "1      Fewer than 100 patients completed the survey. ...             23   \n",
            "2                                                    NaN             32   \n",
            "3                                                    NaN             34   \n",
            "4                                                    NaN             34   \n",
            "...                                                  ...            ...   \n",
            "11995   No survey results are available for this period.  Not Available   \n",
            "11996   No survey results are available for this period.  Not Available   \n",
            "11997   No survey results are available for this period.  Not Available   \n",
            "11998   No survey results are available for this period.  Not Available   \n",
            "11999   No survey results are available for this period.  Not Available   \n",
            "\n",
            "                              Footnote for response rate  \n",
            "0       No survey results are available for this period.  \n",
            "1      Fewer than 100 patients completed the survey. ...  \n",
            "2                                                    NaN  \n",
            "3                                                    NaN  \n",
            "4                                                    NaN  \n",
            "...                                                  ...  \n",
            "11995   No survey results are available for this period.  \n",
            "11996   No survey results are available for this period.  \n",
            "11997   No survey results are available for this period.  \n",
            "11998   No survey results are available for this period.  \n",
            "11999   No survey results are available for this period.  \n",
            "\n",
            "[12000 rows x 39 columns]\n"
          ]
        }
      ],
      "source": [
        "# Write some code to figure it out\n",
        "hhcaps = pd.read_csv('https://hds5210-data.s3.amazonaws.com/hhcaps.csv')\n",
        "print(hhcaps)\n"
      ]
    },
    {
      "cell_type": "code",
      "source": [
        "num_columns = hhcaps.shape[1]\n",
        "print(f\"The dataset contains {num_columns} columns.\")"
      ],
      "metadata": {
        "colab": {
          "base_uri": "https://localhost:8080/"
        },
        "id": "wTEmVZ5ifJnE",
        "outputId": "9ab4dd0b-d8a4-47e9-bd68-4e2de4426848"
      },
      "execution_count": null,
      "outputs": [
        {
          "output_type": "stream",
          "name": "stdout",
          "text": [
            "The dataset contains 39 columns.\n"
          ]
        }
      ]
    },
    {
      "cell_type": "code",
      "execution_count": null,
      "metadata": {
        "nbgrader": {
          "grade": false,
          "grade_id": "q01-solution",
          "locked": false,
          "schema_version": 1,
          "solution": true
        },
        "id": "kyS7kJolca7d"
      },
      "outputs": [],
      "source": [
        "answers={}\n",
        "answers['40.1'] = 39 # NOTE: Use a number, not string to answer this question"
      ]
    },
    {
      "cell_type": "markdown",
      "metadata": {
        "nbgrader": {
          "grade": false,
          "grade_id": "q02-intro",
          "locked": true,
          "schema_version": 1,
          "solution": false
        },
        "id": "AT7fbxtqca7d"
      },
      "source": [
        "## #02 -\n",
        "\n",
        "How many different values for State are there in this file?"
      ]
    },
    {
      "cell_type": "code",
      "execution_count": null,
      "metadata": {
        "colab": {
          "base_uri": "https://localhost:8080/"
        },
        "id": "vDUqYsqSca7d",
        "outputId": "7bff8ba3-9b3c-4ff7-b825-837bf26e9445"
      },
      "outputs": [
        {
          "output_type": "stream",
          "name": "stdout",
          "text": [
            "Unique states count: 55\n"
          ]
        }
      ],
      "source": [
        "# Write some code to figure it out\n",
        "import pandas as pd\n",
        "df = pd.read_csv('https://hds5210-data.s3.amazonaws.com/hhcaps.csv')\n",
        "num_unique_states = df['State'].agg('nunique')\n",
        "print(f\"Unique states count: {num_unique_states}\")\n"
      ]
    },
    {
      "cell_type": "code",
      "execution_count": null,
      "metadata": {
        "nbgrader": {
          "grade": false,
          "grade_id": "q02-solution",
          "locked": false,
          "schema_version": 1,
          "solution": true
        },
        "id": "fNb0jnxgca7d"
      },
      "outputs": [],
      "source": [
        "answers['40.2'] = 55 # NOTE: Use a number, not a string to answer this question"
      ]
    },
    {
      "cell_type": "markdown",
      "metadata": {
        "nbgrader": {
          "grade": false,
          "grade_id": "q03-intro",
          "locked": true,
          "schema_version": 1,
          "solution": false
        },
        "id": "gL4vqrpTca7d"
      },
      "source": [
        "## #03 -\n",
        "\n",
        "Which of those State values has the highest frequency of occurence?"
      ]
    },
    {
      "cell_type": "code",
      "execution_count": null,
      "metadata": {
        "nbgrader": {
          "grade": false,
          "grade_id": "q03-solution",
          "locked": false,
          "schema_version": 1,
          "solution": true
        },
        "colab": {
          "base_uri": "https://localhost:8080/"
        },
        "id": "lzb7aXpwca7d",
        "outputId": "a94c0deb-3721-4a29-a1ec-e83cbf37fb1b"
      },
      "outputs": [
        {
          "output_type": "stream",
          "name": "stdout",
          "text": [
            "The state with the highest frequency is: TX\n"
          ]
        }
      ],
      "source": [
        "# Write some code to figure it out\n",
        "df = pd.read_csv('https://hds5210-data.s3.amazonaws.com/hhcaps.csv')\n",
        "highest_frequency_state = df['State'].mode()[0]\n",
        "print(f\"The state with the highest frequency is: {highest_frequency_state}\")\n"
      ]
    },
    {
      "cell_type": "code",
      "execution_count": null,
      "metadata": {
        "nbgrader": {
          "grade": true,
          "grade_id": "q03-test",
          "locked": true,
          "points": 2,
          "schema_version": 1,
          "solution": false
        },
        "id": "HjswKsUFca7d"
      },
      "outputs": [],
      "source": [
        "answers['40.3'] = \"TX\""
      ]
    },
    {
      "cell_type": "markdown",
      "metadata": {
        "nbgrader": {
          "grade": false,
          "grade_id": "q04-intro",
          "locked": true,
          "schema_version": 1,
          "solution": false
        },
        "id": "KXHNGJAaca7d"
      },
      "source": [
        "## #04 -\n",
        "\n",
        "Which of those State values has the best average performance on the `Star Rating for health team communicated well with them` score?"
      ]
    },
    {
      "cell_type": "code",
      "execution_count": null,
      "metadata": {
        "nbgrader": {
          "grade": false,
          "grade_id": "q04-solution",
          "locked": false,
          "schema_version": 1,
          "solution": true
        },
        "colab": {
          "base_uri": "https://localhost:8080/"
        },
        "id": "-F535B_3ca7d",
        "outputId": "dfd931c9-867a-4748-ae00-095e414b4632"
      },
      "outputs": [
        {
          "output_type": "stream",
          "name": "stdout",
          "text": [
            "The state with the highest average rating is: ME\n"
          ]
        }
      ],
      "source": [
        "# Write some code to figure it out\n",
        "df = pd.read_csv('https://hds5210-data.s3.amazonaws.com/hhcaps.csv')\n",
        "average_ratings = df.groupby('State')['Star Rating for health team communicated well with them'].mean()\n",
        "highest_rated_state = average_ratings.sort_values(ascending=False).index[0]\n",
        "print(f\"The state with the highest average rating is: {highest_rated_state}\")\n",
        "\n"
      ]
    },
    {
      "cell_type": "code",
      "execution_count": null,
      "metadata": {
        "nbgrader": {
          "grade": true,
          "grade_id": "q04-test",
          "locked": true,
          "points": 2,
          "schema_version": 1,
          "solution": false
        },
        "id": "TWqgKrO4ca7e"
      },
      "outputs": [],
      "source": [
        "answers['40.4'] = \"ME\""
      ]
    },
    {
      "cell_type": "markdown",
      "metadata": {
        "nbgrader": {
          "grade": false,
          "grade_id": "q05-intro",
          "locked": true,
          "schema_version": 1,
          "solution": false
        },
        "id": "hNXVmNCfca7e"
      },
      "source": [
        "## #05 -\n",
        "\n",
        "What was the average score on `Star Rating for how patients rated overall care from agency` for providers listed as having a `Type of Ownership` of `Hospital Based Program`\n",
        "\n",
        "**NOTE: Enter your answer with two decimal precision: 0.00**"
      ]
    },
    {
      "cell_type": "code",
      "execution_count": null,
      "metadata": {
        "nbgrader": {
          "grade": false,
          "grade_id": "q05-solution",
          "locked": false,
          "schema_version": 1,
          "solution": true
        },
        "colab": {
          "base_uri": "https://localhost:8080/"
        },
        "id": "wjP7FsTvca7e",
        "outputId": "ab5848b9-f7bf-4278-bfb6-111201086830"
      },
      "outputs": [
        {
          "output_type": "stream",
          "name": "stdout",
          "text": [
            "Average rating for hospital-based providers: 3.69\n"
          ]
        }
      ],
      "source": [
        "# Write some code to figure it out\n",
        "df = pd.read_csv('https://hds5210-data.s3.amazonaws.com/hhcaps.csv')\n",
        "hospital_based_providers = df.query(\"`Type of Ownership` == 'Hospital Based Program'\")\n",
        "average_rating = hospital_based_providers['Star Rating for how patients rated overall care from agency'].mean()\n",
        "print(f\"Average rating for hospital-based providers: {average_rating:.2f}\")"
      ]
    },
    {
      "cell_type": "code",
      "execution_count": null,
      "metadata": {
        "nbgrader": {
          "grade": true,
          "grade_id": "q05-test",
          "locked": true,
          "points": 2,
          "schema_version": 1,
          "solution": false
        },
        "id": "juYo7nIYca7e"
      },
      "outputs": [],
      "source": [
        "answers['40.5'] = 3.69 # NOTE: Write answer as number in form N.NN (No additional digits)"
      ]
    },
    {
      "cell_type": "markdown",
      "metadata": {
        "id": "cKxjszQlca7e"
      },
      "source": [
        "---\n",
        "\n",
        "Checking Your Work\n",
        "---\n",
        "\n",
        "After completing your work above and running each cell, you can check your answers by running the code below.\n",
        "\n",
        "The easiest way to do this is to use the `Kernel` -> `Restart Kernel and Run All Cells` menu option. This option restarts Python and runs every cell from top to bottom until it encounters an exception of some kind.  It will stop after running the cell below and outputing a summary of how many answers you have correct or incorrect.\n"
      ]
    },
    {
      "cell_type": "code",
      "execution_count": null,
      "metadata": {
        "colab": {
          "base_uri": "https://localhost:8080/"
        },
        "id": "A340lKqwca7e",
        "outputId": "a6f8f311-4dd6-494b-d521-780fe0f01a73"
      },
      "outputs": [
        {
          "output_type": "stream",
          "name": "stdout",
          "text": [
            "Question 40.1 is CORRECT\n",
            "Question 40.2 is CORRECT\n",
            "Question 40.3 is CORRECT\n",
            "Question 40.4 is CORRECT\n",
            "Question 40.5 is CORRECT\n"
          ]
        }
      ],
      "source": [
        "import pickle\n",
        "\n",
        "data = b\"\\x80\\x04\\x95?\\x00\\x00\\x00\\x00\\x00\\x00\\x00}\\x94(\\x8c\\x0440.1\\x94K'\\x8c\\x0440.2\\x94K7\\x8c\\x0440.3\\x94\\x8c\\x02TX\\x94\\x8c\\x0440.4\\x94\\x8c\\x02ME\\x94\\x8c\\x0440.5\\x94G@\\r\\x85\\x1e\\xb8Q\\xeb\\x85u.\"\n",
        "result = pickle.loads(data)\n",
        "\n",
        "for key in result:\n",
        "  if answers[key] == result[key]:\n",
        "    print(f\"Question {key} is CORRECT\")\n",
        "  else:\n",
        "    print(f\"Question {key} is INCORRECT\")"
      ]
    },
    {
      "cell_type": "markdown",
      "metadata": {
        "id": "kx0uwakAca7e"
      },
      "source": [
        "---\n",
        "\n",
        "## Check your work above\n",
        "\n",
        "If you didn't get them all correct, take a few minutes to think through those that aren't correct.\n",
        "\n",
        "\n",
        "## Submitting Your Work\n",
        "\n",
        "In order to submit your work, you'll need to save this notebook file back to GitHub.  To do that in Google Colab:\n",
        "1. File -> Save a Copy in GitHub\n",
        "2. Make sure your HDS5210 repository is selected\n",
        "3. Make sure the file name includes the week number like this: `week14/week14_assignment_1.ipynb`\n",
        "4. Add a commit message that means something\n",
        "\n",
        "**Be sure week names are lowercase and use a two digit week number!!**\n",
        "\n",
        "**Be sure you use the same file name provided by the instructor!!**\n",
        "\n"
      ]
    }
  ],
  "metadata": {
    "celltoolbar": "Create Assignment",
    "kernelspec": {
      "display_name": "Python 3 (ipykernel)",
      "language": "python",
      "name": "python3"
    },
    "language_info": {
      "codemirror_mode": {
        "name": "ipython",
        "version": 3
      },
      "file_extension": ".py",
      "mimetype": "text/x-python",
      "name": "python",
      "nbconvert_exporter": "python",
      "pygments_lexer": "ipython3",
      "version": "3.13.0"
    },
    "colab": {
      "provenance": [],
      "include_colab_link": true
    }
  },
  "nbformat": 4,
  "nbformat_minor": 0
}