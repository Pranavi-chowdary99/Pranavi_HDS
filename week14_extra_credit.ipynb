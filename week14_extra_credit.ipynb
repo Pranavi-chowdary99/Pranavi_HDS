{
  "cells": [
    {
      "cell_type": "markdown",
      "metadata": {
        "id": "view-in-github",
        "colab_type": "text"
      },
      "source": [
        "<a href=\"https://colab.research.google.com/github/Pranavi-chowdary99/Pranavi_HDS/blob/main/week14_extra_credit.ipynb\" target=\"_parent\"><img src=\"https://colab.research.google.com/assets/colab-badge.svg\" alt=\"Open In Colab\"/></a>"
      ]
    },
    {
      "cell_type": "markdown",
      "metadata": {
        "id": "14oD4mrG3tWq"
      },
      "source": [
        "# Week 14 Extra Credit - How will ChatGPT do on your final project idea?\n",
        "\n",
        "This extra credit assignment is entirely optional.  You do not need to do it.\n",
        "\n",
        "If you would like the opportunity to earn up to 5 extra credit points, complete this assignment and submit it via GitHub as normal before Monday, November 27 at 11:59 PM CST.  No late submissions will be accepted.  The file must be saved to your week13 folder in GitHub."
      ]
    },
    {
      "cell_type": "markdown",
      "metadata": {
        "id": "N-wtzNHT3tWs"
      },
      "source": [
        "## Part 1: Have a conversation with ChatGPT\n",
        "\n",
        "I want you to have a conversation with ChatGPT about your final project idea.  Find out what it thinks about your idea and if it has any data sources (URLs for specific sites) that could be helpful.  Below, either include copy/paste the chat history from your conversation or include a link to the shared chat.  (ChatGPT has an [option to share a link to a specific conversation](https://help.openai.com/en/articles/7925741-chatgpt-shared-links-faq).  It's the up-arrow icon in the upper-right corner of your chat window.)\n",
        "\n",
        "Take this conversationw with ChatGPT as far as you want, but at least ask three or four follow-up questions to refine the information you're getting back.\n",
        "\n",
        "If it starts giving you links to information, don't assume they're going to work. Remember that ChatGPT isn't perfect. So, follow the links and make sure there's information there that matches what ChatGPT says you will find."
      ]
    },
    {
      "cell_type": "markdown",
      "metadata": {
        "id": "DE3KgHbk3tWs"
      },
      "source": [
        "**RESPONSE**\n",
        "\n",
        "*Enter your conversation or link to your chat here*::: https://chatgpt.com/share/674d47b0-6b30-800d-915c-475ede30d9fc"
      ]
    },
    {
      "cell_type": "markdown",
      "metadata": {
        "id": "SzcCwUtX3tWt"
      },
      "source": [
        "### Part 2: Your reflection\n",
        "\n",
        "Below, tell me what you think ChatGPT did well or not well in your conversation.  Was it good at finding data that you needed?  Was it good at finding actual links that worked?  Did its responses make sense to you?  What did it do well / not well?\n",
        "\n",
        "Your response below should be several sentences.  If you don't have enough feedback, expand your conversation with ChatGPT.  Ask it refine your project idea or start writing code for you.  See what it can do."
      ]
    },
    {
      "cell_type": "markdown",
      "metadata": {
        "id": "X9yFT-MU3tWt"
      },
      "source": [
        "**RESPONSE**\n",
        "\n",
        "ChatGPT did a good job providing resources and ideas for my project on predicting hospital readmissions. It suggested some helpful GitHub repositories, research articles, and tools that seem relevant. The responses were clear and easy to understand, which made it easier to figure out where to start.\n",
        "\n",
        "That said, there’s room for improvement. The links weren’t checked to see if they actually worked, so I’d need to verify them myself. Also, while the suggestions were good, it didn’t explain in much detail how the resources fit with my specific project goals. I think it could have done better by offering more hands-on help, like showing an example of predictive modeling or suggesting a dataset I could use right away.\n",
        "\n",
        "Overall, it gave me a solid starting point, but it would have been even more useful with some actual code examples or deeper explanations. If I ask it to refine the idea or write some code, I think it could take the project to the next level."
      ]
    },
    {
      "cell_type": "markdown",
      "metadata": {
        "id": "HS1GM_ww3tWt"
      },
      "source": [
        "### Submitting\n",
        "\n",
        "Submit this as normal to GitHub with the name `week14/week14_extra_credit.ipynb`"
      ]
    },
    {
      "cell_type": "markdown",
      "metadata": {
        "id": "tu7ieIKl3tWu"
      },
      "source": []
    }
  ],
  "metadata": {
    "language_info": {
      "name": "python"
    },
    "colab": {
      "provenance": [],
      "include_colab_link": true
    }
  },
  "nbformat": 4,
  "nbformat_minor": 0
}