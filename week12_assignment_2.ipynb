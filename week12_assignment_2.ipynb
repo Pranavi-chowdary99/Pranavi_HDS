{
  "cells": [
    {
      "cell_type": "markdown",
      "metadata": {
        "id": "view-in-github",
        "colab_type": "text"
      },
      "source": [
        "<a href=\"https://colab.research.google.com/github/Pranavi-chowdary99/Pranavi_HDS/blob/main/week12_assignment_2.ipynb\" target=\"_parent\"><img src=\"https://colab.research.google.com/assets/colab-badge.svg\" alt=\"Open In Colab\"/></a>"
      ]
    },
    {
      "cell_type": "markdown",
      "metadata": {
        "id": "O07--YAkEqnX"
      },
      "source": [
        "# Week 11 Assignment\n",
        "\n",
        "\n",
        "Please do the programming exercise and verify that your code works using the tests, then think about your final project and fill out the questions in the second part.\n",
        "\n",
        "---\n",
        "---"
      ]
    },
    {
      "cell_type": "markdown",
      "metadata": {
        "id": "zAq0IStbEqnZ"
      },
      "source": [
        "### 47.1: Filtering and summarizing data\n",
        "\n",
        "For this work, you'll find a data file in `https://hds5210-data.s3.amazonaws.com/complications_all.csv`.\n",
        "\n",
        "Read in the data file and create a variable called `mo_hospitals` that contains a data frame from the `complications_all.csv` file, filtered down to only contain those hospitals from the state of Missouri (MO).\n",
        "\n",
        "Then aggregate that data by hospital into a variable named `mo_summary`.  There are some key fields that we want to summarize:\n",
        "* We want to know the earliest date that each hospital was participating in any program\n",
        "* We want to know the latest date that each hospital stopped participating in any program\n",
        "* We want to know the total number of patients in the denominators of these programs\n",
        "\n",
        "Some things to note:\n",
        "* You will need to convert the `Start Date` and `End Date` to actual datetime fields\n",
        "* You will need to clean up and convert the `Denominator` field to just be numeric - the rule that you should use it to simply remove any records where the `Denominator` is `'Not Available'`\n",
        "\n",
        "\n",
        "The final result of this step should be a new data frame called `mo_summary` that contains one row for each hospital and contains the min start date, max end date, and total denominator.  Use the names `start_date`, `end_date`, and `number` for those columns in `mo_summary`.\n",
        "\n",
        "\n",
        "You do not need to create your code in the form of a function, just make sure your variable names match what I've described above so the tests work."
      ]
    },
    {
      "cell_type": "code",
      "execution_count": null,
      "metadata": {
        "id": "pT6Pc7kpEqnZ"
      },
      "outputs": [],
      "source": [
        "import pandas as pd\n",
        "# This is just to show you the name to use for the variable you need to create for this step to pass.\n",
        "all_hospitals = pd.read_csv('https://hds5210-data.s3.amazonaws.com/complications_all.csv')\n"
      ]
    },
    {
      "cell_type": "code",
      "execution_count": null,
      "metadata": {
        "colab": {
          "base_uri": "https://localhost:8080/"
        },
        "id": "XKKjXR9EEqna",
        "outputId": "3a71057b-624a-432e-df98-1990539e849b"
      },
      "outputs": [
        {
          "output_type": "stream",
          "name": "stdout",
          "text": [
            "                                      end_date start_date  number\n",
            "Facility Name                                                    \n",
            "BARNES JEWISH HOSPITAL              2018-06-30 2015-04-01  131313\n",
            "BARNES-JEWISH ST PETERS HOSPITAL    2018-06-30 2015-04-01   15668\n",
            "BARNES-JEWISH WEST COUNTY HOSPITAL  2018-06-30 2015-04-01    9622\n",
            "BATES COUNTY MEMORIAL HOSPITAL      2018-06-30 2015-07-01    3117\n",
            "BELTON REGIONAL MEDICAL CENTER      2018-06-30 2015-04-01    9270\n",
            "...                                        ...        ...     ...\n",
            "TRUMAN MEDICAL CENTER LAKEWOOD      2018-06-30 2015-04-01    4297\n",
            "UNIVERSITY OF MISSOURI HEALTH CARE  2018-06-30 2015-04-01   56493\n",
            "WASHINGTON COUNTY MEMORIAL HOSPITAL 2018-06-30 2015-07-01     220\n",
            "WESTERN MISSOURI MEDICAL CENTER     2018-06-30 2015-04-01    7254\n",
            "WRIGHT MEMORIAL HOSPITAL            2018-06-30 2015-07-01     198\n",
            "\n",
            "[108 rows x 3 columns]\n"
          ]
        }
      ],
      "source": [
        "# Do you work here and in as many cells as you need to create a variable called `mo_summary` that matches the requirements\n",
        "import pandas as pd\n",
        "import numpy as np\n",
        "mo_hospitals = df[df['State'] == 'MO'].copy()\n",
        "mo_hospitals['End Date'] = pd.to_datetime(mo_hospitals['End Date'])\n",
        "mo_hospitals['Start Date'] = pd.to_datetime(mo_hospitals['Start Date'])\n",
        "mo_hospitals = mo_hospitals[mo_hospitals['Denominator'] != 'Not Available']\n",
        "mo_hospitals['Denominator'] = pd.to_numeric(mo_hospitals['Denominator'], errors='coerce')\n",
        "\n",
        "mo_summary = mo_hospitals.groupby('Facility Name').agg({\n",
        "        'End Date': 'max',\n",
        "        'Start Date': 'min',\n",
        "        'Denominator': 'sum'\n",
        "    })\n",
        "# Renaming  columns\n",
        "mo_summary = mo_summary.rename(columns={ 'End Date': 'end_date','Start Date': 'start_date', 'Denominator': 'number'})\n",
        "print(mo_summary)"
      ]
    },
    {
      "cell_type": "code",
      "execution_count": null,
      "metadata": {
        "id": "y91zeEJ4Eqna"
      },
      "outputs": [],
      "source": [
        "assert(mo_summary['number'].sum() == 1766908)\n",
        "assert(mo_summary['start_date'].min() == pd.Timestamp(2015,4,1))\n",
        "assert(mo_summary['end_date'].max() == pd.Timestamp(2018,6,30))\n",
        "assert(mo_summary.shape == (108,3))\n",
        "assert(mo_summary.loc['BARNES JEWISH HOSPITAL'].number == 131313)\n",
        "assert(mo_summary.loc['BOONE HOSPITAL CENTER'].number == 63099)"
      ]
    },
    {
      "cell_type": "markdown",
      "metadata": {
        "id": "23iUDC1WEqna"
      },
      "source": [
        "---\n",
        "\n",
        "### 47.2 Planning your final project\n",
        "\n",
        "You should be thinking about the things we've been learning and how you can apply them to your final project.  Use the rubric to help guid your thinking and then answer the questions below.  This is meant as a guide to help you think through what you will do."
      ]
    },
    {
      "cell_type": "markdown",
      "metadata": {
        "id": "OS6oSfpBEqna"
      },
      "source": [
        "#### A) Data Access\n",
        "\n",
        "Your project should include data from at least three distinct types of sources.  For example: AWS S3, Relational Databases, Internet, Web Services, local files.  List what data sources you're planning to use."
      ]
    },
    {
      "cell_type": "markdown",
      "metadata": {
        "id": "extaguiXEqna"
      },
      "source": [
        "**Double-click to enter your answer**\n",
        "\n",
        "I am planning to use Relational, internet and web services.\n"
      ]
    },
    {
      "cell_type": "markdown",
      "metadata": {
        "id": "zTOTcOSVEqna"
      },
      "source": [
        "#### B. Data Formats\n",
        "\n",
        "Your project should include data that comes in different file formats.  For example: HL7, EDI, HTML, CSV, Excel, JSON, XML.  List what data formats you're planning to use."
      ]
    },
    {
      "cell_type": "markdown",
      "metadata": {
        "id": "J9rrCWfKEqnb"
      },
      "source": [
        "**Double-click to enter your answer**\n",
        "\n",
        "I wanted to use CSV, Excel, JSON format datasets.\n"
      ]
    },
    {
      "cell_type": "markdown",
      "metadata": {
        "id": "UGoQuUJkEqnb"
      },
      "source": [
        "#### C. Objective\n",
        "\n",
        "What purpose would your project serve in a real work setting?  Take a couple of paragraphs to write down why this is an interesting product."
      ]
    },
    {
      "cell_type": "markdown",
      "metadata": {
        "id": "a73bUoL1Eqnb"
      },
      "source": [
        "**Double-click to enter your answer**\n",
        "\n",
        "I wanted to work on a topic like, Predicting Hospital Readmissions and Improving Patient Outcomes this will helps to reduce the cost of the patients and prevent and identifies the cause of the readmissions in hospitals\n",
        "\n",
        "This topic aims at detecting readmission factors within hospital and subsequent work towards the enhancement of patient clinical outcomes, and it's very useful in the real-world context of healthcare delivery. The depth of hospital readmissions is a large financial occurrence with its magnitude of billions of shillings and is regarded as a measure of patients care in healthcare provision. Therefore the paper aims at establishing the odds regarding readmissions that will help the healthcare providers to come up with a right plan in order to enhance the care plan given to the patients, increase the health standards of the patients as well as efficiently use the available resources. For example, predictive models can warn clinicians of such patients to look out for and recommend more check-ups or offer data on tailoring discharge plans.\n",
        "\n",
        "For this reason, this topic is fascinating because it aligns with the use of predictive analytics in practice and targets a real problem of the health-care organizations globally. Using tools such as demographic characteristics, comorbidities, medication compatibility, and SDoH, the project may ensure that there was reduction in the number of avoidable readmissions while at the same time improving patient satisfaction. Moreover, it correlates effectively with the value-based care agendas that offer hospitals incentives that encourage them to stop focusing on the number of cases treated. The discovery resulted from this project might help shape policies, dictate distribution of resources, and create technological aids such as actual-time tracking interfaces for clinicians. The technological solution, cost optimization and, in particular, the care for patients define this as a highly relevant and interesting business process in healthcare.\n"
      ]
    },
    {
      "cell_type": "markdown",
      "metadata": {
        "id": "heiZbFsxEqnb"
      },
      "source": [
        "\n",
        "\n",
        "---\n",
        "\n",
        "\n",
        "\n",
        "## Submit your work via GitHub as normal\n"
      ]
    }
  ],
  "metadata": {
    "kernelspec": {
      "display_name": "Python 3",
      "language": "python",
      "name": "python3"
    },
    "language_info": {
      "codemirror_mode": {
        "name": "ipython",
        "version": 3
      },
      "file_extension": ".py",
      "mimetype": "text/x-python",
      "name": "python",
      "nbconvert_exporter": "python",
      "pygments_lexer": "ipython3",
      "version": "3.9.16"
    },
    "colab": {
      "provenance": [],
      "include_colab_link": true
    }
  },
  "nbformat": 4,
  "nbformat_minor": 0
}